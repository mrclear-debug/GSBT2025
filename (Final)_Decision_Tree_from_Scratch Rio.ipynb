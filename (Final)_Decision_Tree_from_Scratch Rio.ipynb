{
  "nbformat": 4,
  "nbformat_minor": 0,
  "metadata": {
    "colab": {
      "provenance": []
    },
    "kernelspec": {
      "name": "python3",
      "display_name": "Python 3"
    },
    "language_info": {
      "name": "python"
    }
  },
  "cells": [
    {
      "cell_type": "markdown",
      "source": [
        "# Overview Materi\n",
        "\n",
        "Source: https://www.youtube.com/watch?v=LDRbO9a6XPU"
      ],
      "metadata": {
        "id": "fQjXfMWTFXhh"
      }
    },
    {
      "cell_type": "markdown",
      "source": [
        "Jelaskan secara singkat apa itu decision tree menurut pemahamanmu!"
      ],
      "metadata": {
        "id": "UH5otNgmFY4r"
      }
    },
    {
      "cell_type": "markdown",
      "source": [
        ">Decision tree adalah struktur seperti diagram alir yang digunakan dalam machine learning untuk tugas klasifikasi dan regresi. Decision tree memecah dataset menjadi subset yang semakin kecil, sementara pada saat yang sama pohon keputusan terkait dikembangkan secara bertahap. Hasil akhirnya adalah pohon dengan node keputusan dan node daun. Node keputusan mewakili pengujian pada suatu atribut, dan setiap cabang mewakili hasil dari pengujian tersebut. Node daun mewakili label kelas (dalam klasifikasi) atau nilai numerik (dalam regresi)."
      ],
      "metadata": {
        "id": "cyPVF11jYsUG"
      }
    },
    {
      "cell_type": "markdown",
      "source": [
        "# Import Data & Libraries"
      ],
      "metadata": {
        "id": "yR_dxhoaIGZY"
      }
    },
    {
      "cell_type": "code",
      "execution_count": 2,
      "metadata": {
        "id": "E3fobMaeFOAe"
      },
      "outputs": [],
      "source": [
        "from __future__ import print_function\n",
        "\n",
        "# label kolom\n",
        "header = [\"color\", \"diameter\", \"label\"]\n",
        "\n",
        "# data training\n",
        "training_data = [\n",
        "    ['Green', 3, 'Apple'],\n",
        "    ['Yellow', 3, 'Apple'],\n",
        "    ['Red', 1, 'Grape'],\n",
        "    ['Red', 1, 'Grape'],\n",
        "    ['Yellow', 3, 'Lemon'],]\n",
        "\n",
        "# data testing\n",
        "testing_data = [\n",
        "    ['Green', 3, 'Apple'],\n",
        "    ['Yellow', 4, 'Apple'],\n",
        "    ['Red', 2, 'Grape'],\n",
        "    ['Red', 1, 'Grape'],\n",
        "    ['Yellow', 3, 'Lemon'],]"
      ]
    },
    {
      "cell_type": "markdown",
      "source": [
        "# Fungsi Dasar"
      ],
      "metadata": {
        "id": "YMsTb3E1MWY6"
      }
    },
    {
      "cell_type": "code",
      "source": [
        "from typing import AsyncIterable\n",
        "# fungsi mencari apa saja unique value dari suatu kolom\n",
        "# di dalam decision tree, unique value tiap suatu kolom, misal color, diameter, dan label, perlu dicari agar bisa mengetahui informasi/data yang ada di dalam kolom dan bisa membuat pertanyaan atau aturan pada node.\n",
        "\n",
        "# contoh penggunaan\n",
        "# Dalam training_data terdapat 3 kolom, yakni color, diameter, dan label, ketika sudah dikenali apa saja unique value dari tiap kolom maka user dapat membuat split pada node, misal:\n",
        "# 1. Apakah diameter buah >=2?\n",
        "# 2. Apakah buah bewarna merah?\n",
        "# Dari pertanyaan tsb, maka timbul percabangan untuk tiap value yang bernilai \"True\" dan value yang bernilai \"False\" sesuai dengan pertanyaan yang diberikan pada node."
      ],
      "metadata": {
        "id": "Bgzx5gwhSTWp"
      },
      "execution_count": 9,
      "outputs": []
    },
    {
      "cell_type": "code",
      "metadata": {
        "colab": {
          "base_uri": "https://localhost:8080/"
        },
        "id": "8c26fdb4",
        "outputId": "3f6870b7-17c3-4fe0-f995-c6a3194cdbca"
      },
      "source": [],
      "execution_count": 8,
      "outputs": [
        {
          "output_type": "stream",
          "name": "stdout",
          "text": [
            "Item: Green, Tipe: <class 'str'>\n",
            "Item: 3, Tipe: <class 'int'>\n",
            "Item: Apple, Tipe: <class 'str'>\n",
            "Item: Yellow, Tipe: <class 'str'>\n",
            "Item: 3, Tipe: <class 'int'>\n",
            "Item: Lemon, Tipe: <class 'str'>\n"
          ]
        }
      ]
    },
    {
      "cell_type": "code",
      "source": [
        "# fungsi Menghitung jumlah unique value dari suatu kolom\n",
        "def class_counts(rows):\n",
        "    jumlah_buah = {}\n",
        "    for row in rows:\n",
        "        label = row[2]\n",
        "        if label not in jumlah_buah:\n",
        "            jumlah_buah[label] = 0\n",
        "        jumlah_buah[label] += 1\n",
        "    return jumlah_buah\n",
        "\n",
        "# contoh penggunaan\n",
        "jumlah_buah = class_counts(training_data)\n",
        "print(jumlah_buah)"
      ],
      "metadata": {
        "id": "hhF6uUhrJesN",
        "colab": {
          "base_uri": "https://localhost:8080/"
        },
        "outputId": "1d8daa3b-e3b4-472a-b9eb-063ffffe79ac"
      },
      "execution_count": 13,
      "outputs": [
        {
          "output_type": "stream",
          "name": "stdout",
          "text": [
            "{'Apple': 2, 'Grape': 2, 'Lemon': 1}\n"
          ]
        }
      ]
    },
    {
      "cell_type": "code",
      "source": [
        "# fungsi pengecekan suatu value numerik atau bukan\n",
        "def is_numeric(value):\n",
        "    return isinstance(value, (float, int))\n",
        "\n",
        "# contoh penggunaan\n",
        "print(is_numeric(2025))\n",
        "print(is_numeric(\"Three\"))"
      ],
      "metadata": {
        "id": "U9mxqVcnI9vw",
        "colab": {
          "base_uri": "https://localhost:8080/"
        },
        "outputId": "043b4958-c423-477d-f78f-aa1137615814"
      },
      "execution_count": 19,
      "outputs": [
        {
          "output_type": "stream",
          "name": "stdout",
          "text": [
            "True\n",
            "False\n"
          ]
        }
      ]
    },
    {
      "cell_type": "code",
      "source": [
        "# kelas untuk merepresentasikan pertanyaan pada decision tree\n",
        "class Question:\n",
        "\n",
        "    # inisialisasi kolom dan nilai pertanyaan\n",
        "    def __init__(self, column, value):\n",
        "        self.column = column\n",
        "        self.value = value\n",
        "\n",
        "    # mengecek apakah contoh data sesuai dengan pertanyaan\n",
        "    def match(self, example):\n",
        "        val = example[self.column]\n",
        "        if is_numeric(val):\n",
        "            return val >= self.value\n",
        "        else:\n",
        "            return val == self.value\n",
        "\n",
        "    # menampilkan pertanyaan dalam format string yang mudah dibaca\n",
        "    def __repr__(self):\n",
        "        condition = \"==\"\n",
        "        if is_numeric(self.value):\n",
        "            condition = \">=\"\n",
        "        return f\"Is {header[self.column]} {condition} {self.value}?\"\n",
        "\n",
        "# contoh penggunaan 1\n",
        "# Apakah warna buahnya kuning?\n",
        "q = Question(0, 'Yellow')\n",
        "print(q)\n",
        "\n",
        "example = training_data[0]\n",
        "print(f\"Does {example} match the question? {q.match(example)}\")\n",
        "\n",
        "example = training_data[2]\n",
        "print(f\"Does {example} match the question? {q.match(example)}\")\n",
        "\n",
        "# contoh penggunaan 2\n",
        "# Apakah diameter buah >= 2?\n",
        "q2 = Question(1, 2)\n",
        "print(q2)\n",
        "\n",
        "example = training_data[0]\n",
        "print(f\"Does {example} match the question? {q2.match(example)}\")\n",
        "\n",
        "example = training_data[2]\n",
        "print(f\"Does {example} match the question? {q2.match(example)}\")"
      ],
      "metadata": {
        "id": "MekftmdeLPRo",
        "colab": {
          "base_uri": "https://localhost:8080/"
        },
        "outputId": "702dd386-7859-46f7-cdae-6e1365acaa96"
      },
      "execution_count": 48,
      "outputs": [
        {
          "output_type": "stream",
          "name": "stdout",
          "text": [
            "Is color == Yellow?\n",
            "Does ['Green', 3, 'Apple'] match the question? False\n",
            "Does ['Red', 1, 'Grape'] match the question? False\n",
            "Is diameter >= 2?\n",
            "Does ['Green', 3, 'Apple'] match the question? True\n",
            "Does ['Red', 1, 'Grape'] match the question? False\n"
          ]
        }
      ]
    },
    {
      "cell_type": "code",
      "source": [
        "# membagi dataset menjadi dua berdasarkan pertanyaan\n",
        "def partition(rows, question):\n",
        "    true_rows, false_rows = [], []\n",
        "    for row in rows:\n",
        "        if question.match(row):\n",
        "            true_rows.append(row)\n",
        "        else:\n",
        "            false_rows.append(row)\n",
        "    return true_rows, false_rows\n",
        "\n",
        "# contoh penggunaan\n",
        "# Pisahkan data training berdasarkan pertanyaan \"Apakah warna buahnya kuning?\"\n",
        "true_rows, false_rows = partition(training_data, Question(0, 'Yellow'))\n",
        "\n",
        "print(\"True rows (Is color == Yellow?):\")\n",
        "for row in true_rows:\n",
        "    print(row)\n",
        "\n",
        "print(\"False rows (Is color == Yellow?):\")\n",
        "for row in false_rows:\n",
        "    print(row)"
      ],
      "metadata": {
        "id": "Y3lTf9NbL8Ik",
        "colab": {
          "base_uri": "https://localhost:8080/"
        },
        "outputId": "64e1fa2b-eaab-4aae-91ee-0f71ae20c8f3"
      },
      "execution_count": 53,
      "outputs": [
        {
          "output_type": "stream",
          "name": "stdout",
          "text": [
            "True rows (Is color == Yellow?):\n",
            "['Yellow', 3, 'Apple']\n",
            "['Yellow', 3, 'Lemon']\n",
            "False rows (Is color == Yellow?):\n",
            "['Green', 3, 'Apple']\n",
            "['Red', 1, 'Grape']\n",
            "['Red', 1, 'Grape']\n"
          ]
        }
      ]
    },
    {
      "cell_type": "markdown",
      "source": [
        "**apa itu gini impurity?**\n",
        "<br> gini impurity berfungsi mengukur tingkat ketidakmurnian atau ketidakteraturan pada sebuah simpul (node) dalam pohon"
      ],
      "metadata": {
        "id": "X4D5BkyeMdSG"
      }
    },
    {
      "cell_type": "code",
      "source": [
        "# menghitung nilai Gini Impurity untuk sebuah dataset\n",
        "def gini(rows):\n",
        "    counts = class_counts(rows)\n",
        "    impurity = 1\n",
        "    for label in counts:\n",
        "        prob_of_label = counts[label] / float(len(rows))\n",
        "        impurity -= prob_of_label**2\n",
        "    return impurity\n",
        "\n",
        "# contoh penggunaan\n",
        "# Hitung Gini Impurity untuk seluruh data training\n",
        "print(f\"Gini Impurity of training data: {gini(training_data)}\")\n",
        "\n",
        "# Hitung Gini Impurity untuk true_rows dari pertanyaan \"Is color == Red?\"\n",
        "true_rows, false_rows = partition(training_data, Question(0, 'Red'))\n",
        "print(f\"Gini Impurity of true_rows (Is color == Red?): {gini(true_rows)}\")\n",
        "\n",
        "# Hitung Gini Impurity untuk false_rows dari pertanyaan \"Is color == Red?\"\n",
        "print(f\"Gini Impurity of false_rows (Is color == Red?): {gini(false_rows)}\")"
      ],
      "metadata": {
        "id": "DmAnmSzFMKtA",
        "colab": {
          "base_uri": "https://localhost:8080/"
        },
        "outputId": "767ed736-bf0a-4cd4-95fe-36233ce253b1"
      },
      "execution_count": 54,
      "outputs": [
        {
          "output_type": "stream",
          "name": "stdout",
          "text": [
            "Gini Impurity of training data: 0.6399999999999999\n",
            "Gini Impurity of true_rows (Is color == Red?): 0.0\n",
            "Gini Impurity of false_rows (Is color == Red?): 0.4444444444444445\n"
          ]
        }
      ]
    },
    {
      "cell_type": "markdown",
      "source": [
        "**apa itu information gain?**\n",
        "<br> information gain berfungsi mengukur seberapa efektif sebuah fitur dalam memisahkan data berdasarkan kelas-kelasnya"
      ],
      "metadata": {
        "id": "SyxWlLNOM_2U"
      }
    },
    {
      "cell_type": "code",
      "source": [
        "# menghitung nilai Information Gain dari pemisahan dataset\n",
        "def info_gain(left, right, current_uncertainty):\n",
        "    p = float(len(left)) / (len(left) + len(right))\n",
        "    return current_uncertainty - p * gini(left) - (1 - p) * gini(right)\n",
        "\n",
        "# contoh penggunaan\n",
        "# Hitung Information Gain dari pemisahan dr pertanyaan \"Is color == Yellow?\"\n",
        "current_uncertainty = gini(training_data)\n",
        "true_rows, false_rows = partition(training_data, Question(0, 'Yellow'))\n",
        "gain = info_gain(true_rows, false_rows, current_uncertainty)\n",
        "print(f\"Information Gain from splitting on 'Is color == Yellow?': {gain}\")\n",
        "\n",
        "# Hitung Information Gain dari pemisahan dr pertanyaan \"Is diameter >= 2?\"\n",
        "true_rows, false_rows = partition(training_data, Question(1, 2))\n",
        "current_uncertainty = gini(training_data)\n",
        "gain = info_gain(true_rows, false_rows, current_uncertainty)\n",
        "print(f\"Information Gain from splitting on 'Is diameter >= 2?': {gain}\")"
      ],
      "metadata": {
        "id": "rObVucEEMiIZ",
        "colab": {
          "base_uri": "https://localhost:8080/"
        },
        "outputId": "e1eeec71-372f-490e-ced0-38657c56ea5b"
      },
      "execution_count": 47,
      "outputs": [
        {
          "output_type": "stream",
          "name": "stdout",
          "text": [
            "Information Gain from splitting on 'Is color == Yellow?': 0.17333333333333323\n",
            "Information Gain from splitting on 'Is diameter >= 2?': 0.37333333333333324\n"
          ]
        }
      ]
    },
    {
      "cell_type": "code",
      "source": [
        "# mencari pertanyaan terbaik untuk membagi dataset berdasarkan information gain tertinggi\n",
        "def find_best_split(rows):\n",
        "    best_gain = 0\n",
        "    best_question = None\n",
        "    current_uncertainty = gini(rows)\n",
        "    n_features = len(rows[0]) - 1\n",
        "\n",
        "    for col in range(n_features):\n",
        "        values = set([row[col] for row in rows])\n",
        "        for val in values:\n",
        "            question = Question(col, val)\n",
        "            # try splitting the dataset\n",
        "            true_rows, false_rows = partition(rows, question)\n",
        "\n",
        "            # Skip this split if it doesn't divide the dataset\n",
        "            if not true_rows or not false_rows:\n",
        "                continue\n",
        "            gain = info_gain(true_rows, false_rows, current_uncertainty)\n",
        "            if gain >= best_gain:\n",
        "                best_gain, best_question = gain, question\n",
        "\n",
        "    return best_gain, best_question\n",
        "\n",
        "# contoh penggunaan\n",
        "best_gain, best_question = find_best_split(training_data)\n",
        "print(f\"Best Information Gain: {best_gain}\")\n",
        "print(f\"Best Question: {best_question}\")"
      ],
      "metadata": {
        "id": "OK8Lc7koOIyS"
      },
      "execution_count": null,
      "outputs": []
    },
    {
      "cell_type": "markdown",
      "source": [
        "# Fungsi Decision Tree"
      ],
      "metadata": {
        "id": "t225xaaIPGow"
      }
    },
    {
      "cell_type": "code",
      "source": [
        "# merepresentasikan node daun (leaf) pada decision tree yang berisi hasil prediksi\n",
        "class Leaf:\n",
        "\n",
        "    # inisialisasi leaf dengan menghitung jumlah kemunculan tiap kelas\n",
        "    def __init__(self, rows):\n",
        "        self.predictions = class_counts(rows)"
      ],
      "metadata": {
        "id": "3KXNVwMPOZ5c"
      },
      "execution_count": 32,
      "outputs": []
    },
    {
      "cell_type": "code",
      "source": [
        "# merepresentasikan node keputusan (decision node) yang berisi pertanyaan dan cabang\n",
        "class Decision_Node:\n",
        "\n",
        "    # inisialisasi node dengan pertanyaan, cabang benar, dan cabang salah\n",
        "    def __init__(self,\n",
        "                 question,\n",
        "                 true_branch,\n",
        "                 false_branch):\n",
        "        self.question = question\n",
        "        self.true_branch = true_branch\n",
        "        self.false_branch = false_branch"
      ],
      "metadata": {
        "id": "gktUwUY-P-eN"
      },
      "execution_count": 33,
      "outputs": []
    },
    {
      "cell_type": "code",
      "source": [
        "# membangun decision tree secara rekursif\n",
        "def build_tree(rows):\n",
        "    gain, question = find_best_split(rows)\n",
        "    if gain == 0:\n",
        "        return Leaf(rows)\n",
        "    true_rows, false_rows = partition(rows, question)\n",
        "\n",
        "    # Membangun true branch secara rekursif\n",
        "    true_branch = build_tree(true_rows)\n",
        "\n",
        "    # Membangun false branch secara rekursif\n",
        "    false_branch = build_tree(false_rows)\n",
        "\n",
        "    # Mengembalikan Decision_Node\n",
        "    return Decision_Node(question, true_branch, false_branch)"
      ],
      "metadata": {
        "id": "_cWHvsMKPPsk"
      },
      "execution_count": 55,
      "outputs": []
    },
    {
      "cell_type": "code",
      "source": [
        "# mencetak struktur decision tree secara rekursif dalam format teks\n",
        "def print_tree(node, spacing=\"\"):\n",
        "    \"\"\"Prints the tree recursively.\"\"\"\n",
        "\n",
        "    # base case: jika sudah mencapai leaf\n",
        "    if isinstance(node, Leaf):\n",
        "        print(spacing + \"Predict\", node.predictions)\n",
        "        return\n",
        "\n",
        "    # mencetak pertanyaan pada node saat ini\n",
        "    print(spacing + str(node.question))\n",
        "\n",
        "    # mencetak cabang true secara rekursif\n",
        "    print(spacing + '--> True:')\n",
        "    print_tree(node.true_branch, spacing + \"  \")\n",
        "\n",
        "    # mencetak cabang false secara rekursif\n",
        "    print(spacing + '--> False:')\n",
        "    print_tree(node.false_branch, spacing + \"  \")\n",
        "\n",
        "# contoh penggunaan\n",
        "my_tree = build_tree(training_data)\n",
        "print_tree(my_tree)"
      ],
      "metadata": {
        "id": "tx_AbjiYPS05",
        "colab": {
          "base_uri": "https://localhost:8080/"
        },
        "outputId": "ada84875-eb5b-4f9d-e23e-713fc760a522"
      },
      "execution_count": 56,
      "outputs": [
        {
          "output_type": "stream",
          "name": "stdout",
          "text": [
            "Is diameter >= 3?\n",
            "--> True:\n",
            "  Is color == Yellow?\n",
            "  --> True:\n",
            "    Predict {'Apple': 1, 'Lemon': 1}\n",
            "  --> False:\n",
            "    Predict {'Apple': 1}\n",
            "--> False:\n",
            "  Predict {'Grape': 2}\n"
          ]
        }
      ]
    },
    {
      "cell_type": "code",
      "source": [
        "# mengklasifikasikan satu baris data menggunakan decision tree\n",
        "def classify(row, node):\n",
        "    # base case: jika sudah mencapai leaf\n",
        "    if isinstance(node, Leaf):\n",
        "        return node.predictions\n",
        "\n",
        "    # menentukan apakah mengikuti cabang true atau cabang false\n",
        "    # dengan membandingkan nilai fitur pada baris dengan pertanyaan di node\n",
        "    if node.question.match(row):\n",
        "        return classify(row, node.true_branch)\n",
        "    else:\n",
        "        return classify(row, node.false_branch)\n",
        "\n",
        "# contoh penggunaan\n",
        "example = training_data[0]\n",
        "prediction = classify(example, my_tree)\n",
        "print(f\"Prediction for {example}: {prediction}\")\n",
        "\n",
        "example = training_data[1]\n",
        "prediction = classify(example, my_tree)\n",
        "print(f\"Prediction for {example}: {prediction}\")\n",
        "\n",
        "\n",
        "example = training_data[2]\n",
        "prediction = classify(example, my_tree)\n",
        "print(f\"Prediction for {example}: {prediction}\")"
      ],
      "metadata": {
        "id": "tchvhQc-PVC2",
        "colab": {
          "base_uri": "https://localhost:8080/"
        },
        "outputId": "b924e81b-540c-4e97-eeab-b287c33da7e1"
      },
      "execution_count": 38,
      "outputs": [
        {
          "output_type": "stream",
          "name": "stdout",
          "text": [
            "Prediction for ['Green', 3, 'Apple']: {'Apple': 1}\n",
            "Prediction for ['Yellow', 3, 'Apple']: {'Apple': 1, 'Lemon': 1}\n",
            "Prediction for ['Red', 1, 'Grape']: {'Grape': 2}\n"
          ]
        }
      ]
    },
    {
      "cell_type": "code",
      "source": [
        "# menampilkan prediksi pada leaf dalam format persentase\n",
        "def print_leaf(counts):\n",
        "    total = sum(counts.values())\n",
        "    probs = {}\n",
        "    for label in counts:\n",
        "        probs[label] = f\"{counts[label] / total * 100:.2f}%\"\n",
        "    return probs\n",
        "\n",
        "# contoh penggunaan\n",
        "example = training_data[0] # ['Green', 3, 'Apple']\n",
        "prediction_counts = classify(example, my_tree)\n",
        "prediction_probs = print_leaf(prediction_counts)\n",
        "print(f\"Prediction probabilities for {example}: {prediction_probs}\")\n",
        "\n",
        "example = training_data[4] # ['Yellow', 3, 'Lemon']\n",
        "prediction_counts = classify(example, my_tree)\n",
        "prediction_probs = print_leaf(prediction_counts)\n",
        "print(f\"Prediction probabilities for {example}: {prediction_probs}\")"
      ],
      "metadata": {
        "id": "w8r0lzWpQM7c",
        "colab": {
          "base_uri": "https://localhost:8080/"
        },
        "outputId": "e811c5f2-18ae-4485-bc0b-e776a10134d1"
      },
      "execution_count": 39,
      "outputs": [
        {
          "output_type": "stream",
          "name": "stdout",
          "text": [
            "Prediction probabilities for ['Green', 3, 'Apple']: {'Apple': '100.00%'}\n",
            "Prediction probabilities for ['Yellow', 3, 'Lemon']: {'Apple': '50.00%', 'Lemon': '50.00%'}\n"
          ]
        }
      ]
    },
    {
      "cell_type": "markdown",
      "source": [
        "# Predict Using Decision Tree"
      ],
      "metadata": {
        "id": "JLT1_TuuQWlI"
      }
    },
    {
      "cell_type": "code",
      "source": [
        "# menguji decision tree dengan data uji dan membandingkan hasil prediksi dengan label asli\n",
        "print(\"Testing the Decision Tree with testing_data:\")\n",
        "for row in testing_data:\n",
        "    prediction_counts = classify(row, my_tree)\n",
        "    prediction_probs = print_leaf(prediction_counts)\n",
        "    print(f\"Example: {row}, Prediction probabilities: {prediction_probs}\")"
      ],
      "metadata": {
        "id": "DhG5NCwHQSlF",
        "colab": {
          "base_uri": "https://localhost:8080/"
        },
        "outputId": "6bb376d4-f319-4b40-dc6d-ef44f9019941"
      },
      "execution_count": 41,
      "outputs": [
        {
          "output_type": "stream",
          "name": "stdout",
          "text": [
            "Testing the Decision Tree with testing_data:\n",
            "Example: ['Green', 3, 'Apple'], Prediction probabilities: {'Apple': '100.00%'}\n",
            "Example: ['Yellow', 4, 'Apple'], Prediction probabilities: {'Apple': '50.00%', 'Lemon': '50.00%'}\n",
            "Example: ['Red', 2, 'Grape'], Prediction probabilities: {'Grape': '100.00%'}\n",
            "Example: ['Red', 1, 'Grape'], Prediction probabilities: {'Grape': '100.00%'}\n",
            "Example: ['Yellow', 3, 'Lemon'], Prediction probabilities: {'Apple': '50.00%', 'Lemon': '50.00%'}\n"
          ]
        }
      ]
    }
  ]
}