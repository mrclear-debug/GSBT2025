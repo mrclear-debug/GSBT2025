{
  "nbformat": 4,
  "nbformat_minor": 0,
  "metadata": {
    "colab": {
      "provenance": []
    },
    "kernelspec": {
      "name": "python3",
      "display_name": "Python 3"
    },
    "language_info": {
      "name": "python"
    }
  },
  "cells": [
    {
      "cell_type": "markdown",
      "source": [
        "## Tugas 1"
      ],
      "metadata": {
        "id": "R_YrdvsQx9LT"
      }
    },
    {
      "cell_type": "markdown",
      "source": [
        "Diberikan list usia sebagai berikut:\n",
        "\n",
        "```python\n",
        "ages = [15, 22, 35, 44, 18, 67, 29]\n",
        "```"
      ],
      "metadata": {
        "id": "LEzlJqcGyBhi"
      }
    },
    {
      "cell_type": "markdown",
      "source": [
        "#### Tugas 1.a"
      ],
      "metadata": {
        "id": "p1dy0XaX4f72"
      }
    },
    {
      "cell_type": "markdown",
      "source": [
        "Gunakan `map()` dan `lambda` untuk mengelompokkan usia ke dalam kategori berikut:\n",
        "- `< 18` → `\"child\"`\n",
        "- `18–35` → `\"adult\"`\n",
        "- `> 35` → `\"senior\"`\n",
        "\n",
        "Simpan hasilnya dalam list baru bernama `age_category`, lalu cetak `age_category`.\n",
        "\n",
        "---\n",
        "\n",
        "💬 Expected Output Tugas 1.a:\n",
        "\n",
        "```python\n",
        "['child', 'adult', 'adult', 'senior', 'adult', 'senior', 'adult']\n",
        "```"
      ],
      "metadata": {
        "id": "1VyBAmtEyDQR"
      }
    },
    {
      "cell_type": "code",
      "source": [
        "# Write your code here\n",
        "ages = [15, 22, 35, 44, 18, 67, 29]\n",
        "age_category = list(map(lambda x: \"child\" if x < 18 else (\"adult\" if x <= 35 else \"senior\"), ages))\n",
        "print(age_category)"
      ],
      "metadata": {
        "id": "jGy4JkrNyB1k",
        "colab": {
          "base_uri": "https://localhost:8080/"
        },
        "outputId": "5a5d59fe-f1b8-43c1-be4c-1b222d92fb43"
      },
      "execution_count": 13,
      "outputs": [
        {
          "output_type": "stream",
          "name": "stdout",
          "text": [
            "['child', 'adult', 'adult', 'senior', 'adult', 'senior', 'adult']\n"
          ]
        }
      ]
    },
    {
      "cell_type": "markdown",
      "source": [
        "#### Tugas 1.b"
      ],
      "metadata": {
        "id": "rXmskOaw4s1e"
      }
    },
    {
      "cell_type": "markdown",
      "source": [
        "Cetak setiap usia dan kategorinya dalam format:\n",
        "```\n",
        "15 → child\n",
        "22 → adult\n",
        "...\n",
        "```\n",
        "\n",
        "---\n",
        "\n",
        "💬 Expected Output Tugas 1.b:\n",
        "\n",
        "```\n",
        "15 → child  \n",
        "22 → adult  \n",
        "35 → adult  \n",
        "44 → senior  \n",
        "18 → adult  \n",
        "67 → senior  \n",
        "29 → adult\n",
        "```\n",
        "\n",
        "---\n",
        "\n",
        "**Hint:** Gunakan `zip()` dan for loop"
      ],
      "metadata": {
        "id": "u7CsWm8LyObi"
      }
    },
    {
      "cell_type": "code",
      "source": [
        "# Write your code here\n",
        "ages = [15, 22, 35, 44, 18, 67, 29]\n",
        "age_category = list(map(lambda x: \"child\" if x < 18 else (\"adult\" if x <= 35 else \"senior\"), ages))\n",
        "for age, category in zip(ages, age_category):\n",
        "    print(f\"{age} -> {category}\")"
      ],
      "metadata": {
        "id": "jdRg4A4kycOq",
        "colab": {
          "base_uri": "https://localhost:8080/"
        },
        "outputId": "19546d03-264f-4715-a72f-e6561e5fd4d3"
      },
      "execution_count": 14,
      "outputs": [
        {
          "output_type": "stream",
          "name": "stdout",
          "text": [
            "15 -> child\n",
            "22 -> adult\n",
            "35 -> adult\n",
            "44 -> senior\n",
            "18 -> adult\n",
            "67 -> senior\n",
            "29 -> adult\n"
          ]
        }
      ]
    },
    {
      "cell_type": "markdown",
      "source": [
        "## Tugas 2"
      ],
      "metadata": {
        "id": "qcWbNlb55on2"
      }
    },
    {
      "cell_type": "markdown",
      "source": [
        "Diberikan dua kumpulan review sebagai berikut:\n",
        "\n",
        "```python\n",
        "positive_review = [\n",
        "    \"Top seller barang sesuai deskripsi dan berfungsi dengan baik, jangan ragu berbelanja di sini.\",\n",
        "    \"Paket aman pengiriman cepat packing nya juga sangat aman barang aman original sony japan seller fast response dan ramah\",\n",
        "    \"Barang sesuai, packing rapi dan berfungsi dengan baik.\"\n",
        "]\n",
        "\n",
        "negative_review = [\n",
        "    \"Kabelnya tidak original, segel terbuka\",\n",
        "    \"barang yang sampai bukan PS5. tapi permen. uang saya pun tidak dikembalikan.\",\n",
        "    \"Jangan mau beli ps5 di sini toko tidak jelas\"\n",
        "]\n",
        "```"
      ],
      "metadata": {
        "id": "Sjde59nz6csq"
      }
    },
    {
      "cell_type": "markdown",
      "source": [
        "#### Tugas 2.a"
      ],
      "metadata": {
        "id": "eO6c4Fs46gT1"
      }
    },
    {
      "cell_type": "markdown",
      "source": [
        "Lakukan tokenisasi sederhana terhadap setiap review pada `positive_review` dan `negative_review`.  \n",
        "- Gunakan `lower()` untuk mengubah huruf menjadi kecil  \n",
        "- Gunakan `split()` untuk memecah kalimat menjadi list kata  \n",
        "- Lakukan dengan **list comprehension**\n",
        "\n",
        "Assign kembali `positive_review` dan `negative_review` dengan hasilnya, lalu `print()` keduanya.\n",
        "\n",
        "---\n",
        "\n",
        "💬 Expected Output Tugas 2.a:\n",
        "\n",
        "```python\n",
        "[['top', 'seller', 'barang', 'sesuai', 'deskripsi', 'dan', 'berfungsi', 'dengan', 'baik,', 'jangan', 'ragu', 'berbelanja', 'di', 'sini.'],\n",
        " ['paket', 'aman', 'pengiriman', 'cepat', 'packing', 'nya', 'juga', 'sangat', 'aman', 'barang', 'aman', 'original', 'sony', 'japan', 'seller', 'fast', 'response', 'dan', 'ramah'],\n",
        " ['barang', 'sesuai,', 'packing', 'rapi', 'dan', 'berfungsi', 'dengan', 'baik.']]\n",
        "\n",
        "[['kabelnya', 'tidak', 'original,', 'segel', 'terbuka'],\n",
        " ['barang', 'yang', 'sampai', 'bukan', 'ps5.', 'tapi', 'permen.', 'uang', 'saya', 'pun', 'tidak', 'dikembalikan.'],\n",
        " ['jangan', 'mau', 'beli', 'ps5', 'di', 'sini', 'toko', 'tidak', 'jelas']]\n",
        "```"
      ],
      "metadata": {
        "id": "2O-Lv_936lvx"
      }
    },
    {
      "cell_type": "code",
      "source": [
        "# Write your code here\n",
        "positive_review = [\n",
        "    \"Top seller barang sesuai deskripsi dan berfungsi dengan baik, jangan ragu berbelanja di sini.\",\n",
        "    \"Paket aman pengiriman cepat packing nya juga sangat aman barang aman original sony japan seller fast response dan ramah\",\n",
        "    \"Barang sesuai, packing rapi dan berfungsi dengan baik.\"\n",
        "]\n",
        "\n",
        "negative_review = [\n",
        "    \"Kabelnya tidak original, segel terbuka\",\n",
        "    \"barang yang sampai bukan PS5. tapi permen. uang saya pun tidak dikembalikan.\",\n",
        "    \"Jangan mau beli ps5 di sini toko tidak jelas\"\n",
        "]\n",
        "\n",
        "positive_review = [review.lower().split() for review in positive_review]\n",
        "negative_review = [review.lower().split() for review in negative_review]\n",
        "print(\"*REVIEW POSITIF*\")\n",
        "print(positive_review[0])\n",
        "print(positive_review[1])\n",
        "print(positive_review[2])\n",
        "print(\" \")\n",
        "print(\"*REVIEW NEGATIF*\")\n",
        "print(negative_review[0])\n",
        "print(negative_review[1])\n",
        "print(negative_review[2])"
      ],
      "metadata": {
        "id": "IAzLXEu75p9S",
        "colab": {
          "base_uri": "https://localhost:8080/"
        },
        "outputId": "b0f21525-b3a7-42ad-b64a-d93a1c6bc4ca"
      },
      "execution_count": 34,
      "outputs": [
        {
          "output_type": "stream",
          "name": "stdout",
          "text": [
            "*REVIEW POSITIF*\n",
            "['top', 'seller', 'barang', 'sesuai', 'deskripsi', 'dan', 'berfungsi', 'dengan', 'baik,', 'jangan', 'ragu', 'berbelanja', 'di', 'sini.']\n",
            "['paket', 'aman', 'pengiriman', 'cepat', 'packing', 'nya', 'juga', 'sangat', 'aman', 'barang', 'aman', 'original', 'sony', 'japan', 'seller', 'fast', 'response', 'dan', 'ramah']\n",
            "['barang', 'sesuai,', 'packing', 'rapi', 'dan', 'berfungsi', 'dengan', 'baik.']\n",
            " \n",
            "*REVIEW NEGATIF*\n",
            "['kabelnya', 'tidak', 'original,', 'segel', 'terbuka']\n",
            "['barang', 'yang', 'sampai', 'bukan', 'ps5.', 'tapi', 'permen.', 'uang', 'saya', 'pun', 'tidak', 'dikembalikan.']\n",
            "['jangan', 'mau', 'beli', 'ps5', 'di', 'sini', 'toko', 'tidak', 'jelas']\n"
          ]
        }
      ]
    },
    {
      "cell_type": "markdown",
      "source": [
        "#### Tugas 2.b"
      ],
      "metadata": {
        "id": "Jzty9Ti67rje"
      }
    },
    {
      "cell_type": "markdown",
      "source": [
        "Import `Counter` dari modul `collections`.\n",
        "\n",
        "**Syntax:**\n",
        "```python\n",
        "from collections import counter\n",
        "```\n",
        "\n",
        "Gabungkan semua kata dari masing-masing review (gunakan list comprehension), lalu hitung frekuensi kata dari `positive_review` dan `negative_review` menggunakan `Counter`.\n",
        "\n",
        "Cetak hasil count untuk masing-masing review.\n",
        "\n",
        "---\n",
        "\n",
        "💬 Expected Output Tugas 2.b:\n",
        "\n",
        "```python\n",
        "Counter({'barang': 3, 'aman': 3, 'dan': 3, 'berfungsi': 2, 'dengan': 2, 'seller': 2, ...})\n",
        "\n",
        "Counter({'tidak': 3, 'ps5': 2, 'barang': 1, 'jangan': 1, ...})\n",
        "```"
      ],
      "metadata": {
        "id": "0GvVlzSW7wVI"
      }
    },
    {
      "cell_type": "code",
      "source": [
        "# Write your code here\n",
        "from collections import Counter\n",
        "positive_review_words = [word for review in positive_review for word in review]\n",
        "negative_review_words = [word for review in negative_review for word in review]\n",
        "\n",
        "positive_review_count = Counter(positive_review_words)\n",
        "negative_review_count = Counter(negative_review_words)\n",
        "\n",
        "print(positive_review_count)\n",
        "print(negative_review_count)"
      ],
      "metadata": {
        "id": "IY0JJxeO7tJS",
        "colab": {
          "base_uri": "https://localhost:8080/"
        },
        "outputId": "9d546f3a-c100-4cc7-db1b-17d287c8ade1"
      },
      "execution_count": 22,
      "outputs": [
        {
          "output_type": "stream",
          "name": "stdout",
          "text": [
            "Counter({'barang': 3, 'dan': 3, 'aman': 3, 'seller': 2, 'berfungsi': 2, 'dengan': 2, 'packing': 2, 'top': 1, 'sesuai': 1, 'deskripsi': 1, 'baik,': 1, 'jangan': 1, 'ragu': 1, 'berbelanja': 1, 'di': 1, 'sini.': 1, 'paket': 1, 'pengiriman': 1, 'cepat': 1, 'nya': 1, 'juga': 1, 'sangat': 1, 'original': 1, 'sony': 1, 'japan': 1, 'fast': 1, 'response': 1, 'ramah': 1, 'sesuai,': 1, 'rapi': 1, 'baik.': 1})\n",
            "Counter({'tidak': 3, 'kabelnya': 1, 'original,': 1, 'segel': 1, 'terbuka': 1, 'barang': 1, 'yang': 1, 'sampai': 1, 'bukan': 1, 'ps5.': 1, 'tapi': 1, 'permen.': 1, 'uang': 1, 'saya': 1, 'pun': 1, 'dikembalikan.': 1, 'jangan': 1, 'mau': 1, 'beli': 1, 'ps5': 1, 'di': 1, 'sini': 1, 'toko': 1, 'jelas': 1})\n"
          ]
        }
      ]
    },
    {
      "cell_type": "markdown",
      "source": [
        "## Tugas 3"
      ],
      "metadata": {
        "id": "R0gTLg6r2vza"
      }
    },
    {
      "cell_type": "markdown",
      "source": [
        "Diberikan list berikut yang berisi data rating produk (dari 1 sampai 5):\n",
        "\n",
        "```python\n",
        "ratings = [5, 4, 3, 5, 2, 1, 4, 3, 5, 2, 1]\n",
        "```"
      ],
      "metadata": {
        "id": "ZuymkAcw3h3a"
      }
    },
    {
      "cell_type": "markdown",
      "source": [
        "#### Tugas 3.a"
      ],
      "metadata": {
        "id": "1fceealH3j-M"
      }
    },
    {
      "cell_type": "markdown",
      "source": [
        "Buat fungsi bernama `is_high_rating` yang menerima satu angka `x` dan mengembalikan `True` jika nilainya **lebih besar atau sama dengan 4**, dan `False` jika tidak.\n",
        "\n",
        "Cetak hasil uji fungsi ini untuk `x = 4` dan `x = 2`.\n",
        "\n",
        "---\n",
        "\n",
        "💬 Expected Output:\n",
        "\n",
        "```python\n",
        "True\n",
        "False\n",
        "```"
      ],
      "metadata": {
        "id": "xTvSbotG4qy2"
      }
    },
    {
      "cell_type": "code",
      "source": [
        "# Write your code here\n",
        "def is_high_rating(x):\n",
        "    return x >= 4\n",
        "print(is_high_rating(4))\n",
        "print(is_high_rating(2))"
      ],
      "metadata": {
        "id": "LvuOEv8U2uwa",
        "colab": {
          "base_uri": "https://localhost:8080/"
        },
        "outputId": "ba3ae74b-aa95-4dd9-a397-8c250e9b06f0"
      },
      "execution_count": 23,
      "outputs": [
        {
          "output_type": "stream",
          "name": "stdout",
          "text": [
            "True\n",
            "False\n"
          ]
        }
      ]
    },
    {
      "cell_type": "markdown",
      "source": [
        "#### Tugas 3.b"
      ],
      "metadata": {
        "id": "YvTKwqkH5NhV"
      }
    },
    {
      "cell_type": "markdown",
      "source": [
        "Gunakan `filter()` dengan fungsi `is_high_rating` untuk menyaring hanya rating yang bernilai **4 atau lebih**.  \n",
        "Simpan hasilnya dalam list `high_ratings`, lalu cetak hasilnya.\n",
        "\n",
        "---\n",
        "\n",
        "💬 Expected Output:\n",
        "\n",
        "```python\n",
        "[5, 4, 5, 4, 5]\n",
        "```"
      ],
      "metadata": {
        "id": "AHip_bWP5T7S"
      }
    },
    {
      "cell_type": "code",
      "source": [
        "# Write your code here\n",
        "ratings = [5, 4, 3, 5, 2, 1, 4, 3, 5, 2, 1]\n",
        "high_ratings = list(filter(is_high_rating, ratings))\n",
        "print(high_ratings)"
      ],
      "metadata": {
        "id": "E5avyefk5TAY",
        "colab": {
          "base_uri": "https://localhost:8080/"
        },
        "outputId": "5222dd8d-707b-42b2-8985-54081f81976a"
      },
      "execution_count": 29,
      "outputs": [
        {
          "output_type": "stream",
          "name": "stdout",
          "text": [
            "[5, 4, 5, 4, 5]\n"
          ]
        }
      ]
    },
    {
      "cell_type": "markdown",
      "source": [
        "#### Tugas 3.c"
      ],
      "metadata": {
        "id": "0dGF9o3-5c9u"
      }
    },
    {
      "cell_type": "markdown",
      "source": [
        "Gunakan `filter()` dengan `lambda` function untuk menyaring hanya rating yang **bernilai ganjil**.  \n",
        "Simpan ke list `odd_ratings` dan cetak hasilnya.\n",
        "\n",
        "---\n",
        "\n",
        "💬 Expected Output:\n",
        "\n",
        "```python\n",
        "[5, 3, 5, 1, 3, 5, 1]\n",
        "```"
      ],
      "metadata": {
        "id": "i_k33DAu5iRY"
      }
    },
    {
      "cell_type": "code",
      "source": [
        "# Write your code here\n",
        "ratings = [5, 4, 3, 5, 2, 1, 4, 3, 5, 2, 1]\n",
        "odd_ratings = list(filter(lambda x: x % 2 == 1, ratings))\n",
        "print(odd_ratings)"
      ],
      "metadata": {
        "id": "2i5F_gLu5j5C",
        "colab": {
          "base_uri": "https://localhost:8080/"
        },
        "outputId": "ff254d1c-2245-42e8-86d8-b5bdfceec26a"
      },
      "execution_count": 25,
      "outputs": [
        {
          "output_type": "stream",
          "name": "stdout",
          "text": [
            "[5, 3, 5, 1, 3, 5, 1]\n"
          ]
        }
      ]
    },
    {
      "cell_type": "code",
      "source": [
        "ratings = [5, 4, 3, 5, 2, 1, 4, 3, 5, 2, 1]\n",
        "even_ratings = list(filter(lambda x: x % 2 == 0, ratings))\n",
        "print(even_ratings)"
      ],
      "metadata": {
        "colab": {
          "base_uri": "https://localhost:8080/"
        },
        "id": "e57urdHtfAbm",
        "outputId": "589f8b23-de60-437c-8ce9-c9d00adfe856"
      },
      "execution_count": 2,
      "outputs": [
        {
          "output_type": "stream",
          "name": "stdout",
          "text": [
            "[4, 2, 4, 2]\n"
          ]
        }
      ]
    },
    {
      "cell_type": "markdown",
      "source": [
        "## Tugas 4"
      ],
      "metadata": {
        "id": "qwhxEcRv8zJD"
      }
    },
    {
      "cell_type": "markdown",
      "source": [
        "#### Tugas 4.a"
      ],
      "metadata": {
        "id": "rO7uO0fAAlXB"
      }
    },
    {
      "cell_type": "markdown",
      "source": [
        "Diberikan list nama produk berikut:\n",
        "\n",
        "```python\n",
        "products = [\"laptop\", \"smartphone\", \"tablet\", \"monitor\"]\n",
        "```\n",
        "\n",
        "Gunakan `enumerate()` untuk membuat list of tuples `product_list` di mana tiap elemen-nya berupa `(id, product_name)`, dengan `id` dimulai dari 101.  \n",
        "Cetak hasilnya.\n",
        "\n",
        "---\n",
        "\n",
        "💬 Expected Output:\n",
        "\n",
        "```python\n",
        "[(101, 'laptop'), (102, 'smartphone'), (103, 'tablet'), (104, 'monitor')]\n",
        "```"
      ],
      "metadata": {
        "id": "zDa0UuukAfw5"
      }
    },
    {
      "cell_type": "code",
      "source": [
        "# Write your code here\n",
        "products = [\"laptop\", \"smartphone\", \"tablet\", \"monitor\"]\n",
        "product_list = list(enumerate(products, start = 101))\n",
        "print(product_list)"
      ],
      "metadata": {
        "id": "0ZjCps7X83X4",
        "colab": {
          "base_uri": "https://localhost:8080/"
        },
        "outputId": "4a3cd265-5094-418a-d4f6-fb21fd69b337"
      },
      "execution_count": 33,
      "outputs": [
        {
          "output_type": "stream",
          "name": "stdout",
          "text": [
            "[(101, 'laptop'), (102, 'smartphone'), (103, 'tablet'), (104, 'monitor')]\n"
          ]
        }
      ]
    },
    {
      "cell_type": "markdown",
      "source": [
        "#### Tugas 4.b"
      ],
      "metadata": {
        "id": "p5mJn-wYAzqD"
      }
    },
    {
      "cell_type": "markdown",
      "source": [
        "Diberikan dua list berikut:\n",
        "\n",
        "```python\n",
        "names = [\"Anna\", \"Ben\", \"Cara\", \"Dion\"]\n",
        "scores = [88, 45, 73, 91]\n",
        "```\n",
        "\n",
        "Gunakan `enumerate()` untuk mencetak semua peserta yang mendapat nilai di bawah 70.  \n",
        "**Ikuti langkah berikut secara eksplisit:**\n",
        "\n",
        "1. Gunakan `zip()` untuk menggabungkan `names` dan `scores`\n",
        "2. Gunakan `enumerate()` untuk memberikan indeks pada setiap pasangan `(name, score)`\n",
        "3. Buat `for` loop dari hasil `enumerate(zip(...))`\n",
        "4. Di dalam loop, jika `score < 70`, cetak dalam format:\n",
        "\n",
        "```\n",
        "<name> (Index: <index>) mendapat nilai di bawah KKM: <score>\n",
        "```\n",
        "\n",
        "---\n",
        "\n",
        "💬 Expected Output:\n",
        "\n",
        "```\n",
        "Ben (Index: 1) mendapat nilai di bawah KKM: 45\n",
        "```"
      ],
      "metadata": {
        "id": "j9i2ngUMA6_5"
      }
    },
    {
      "cell_type": "code",
      "source": [
        "# Write your code here\n",
        "names = [\"Anna\", \"Ben\", \"Cara\", \"Dion\"]\n",
        "scores = [88, 45, 73, 91]\n",
        "name_score_list = list(enumerate(zip(names, scores)))\n",
        "for index, (name, score) in name_score_list:\n",
        "    if score < 70:\n",
        "        print(f\"{name} (Index: {index}) mendapat nilai di bawah KKM: {score}\")"
      ],
      "metadata": {
        "id": "l7rFo8_qA1To",
        "colab": {
          "base_uri": "https://localhost:8080/"
        },
        "outputId": "10c915db-aa09-4d92-d8f7-7a82021c7666"
      },
      "execution_count": 1,
      "outputs": [
        {
          "output_type": "stream",
          "name": "stdout",
          "text": [
            "Ben (Index: 1) mendapat nilai di bawah KKM: 45\n"
          ]
        }
      ]
    },
    {
      "cell_type": "markdown",
      "source": [
        "## Tugas 5"
      ],
      "metadata": {
        "id": "JMloEgxUQunV"
      }
    },
    {
      "cell_type": "markdown",
      "source": [
        "Kamu memiliki dua list berisi data rating produk dari dua batch yang berbeda. Namun, hanya rating dari **1 hingga 5** yang valid:\n",
        "\n",
        "```python\n",
        "batch_1 = [5, 3, 6, 2, -1, 4]\n",
        "batch_2 = [4, 0, 2, 5, 3]\n",
        "```"
      ],
      "metadata": {
        "id": "LYvX-OCMQ1Ld"
      }
    },
    {
      "cell_type": "markdown",
      "source": [
        "#### Tugas 5.a"
      ],
      "metadata": {
        "id": "wJ-mcABiQ2GG"
      }
    },
    {
      "cell_type": "markdown",
      "source": [
        "Buat list kosong `all_valid_ratings`.  \n",
        "Saring hanya nilai valid dari `batch_1` (nilai antara 1 dan 5, inklusif), lalu tambahkan hasilnya ke `all_valid_ratings` menggunakan `extend()`.  \n",
        "Cetak isi `all_valid_ratings` setelah extend dari `batch_1`.\n",
        "\n",
        "---\n",
        "\n",
        "💬 Expected Output Tugas 5.a:\n",
        "\n",
        "```python\n",
        "[5, 3, 2, 4]\n",
        "```"
      ],
      "metadata": {
        "id": "12SkUA23Q6XU"
      }
    },
    {
      "cell_type": "code",
      "source": [
        "# Write your code here\n",
        "batch_1 = [5, 3, 6, 2, -1, 4]\n",
        "batch_2 = [4, 0, 2, 5, 3]\n",
        "\n",
        "all_valid_rating = []\n",
        "all_valid_rating.extend(filter(lambda x: 1<=x<=5, batch_1))\n",
        "\n",
        "print(all_valid_rating)"
      ],
      "metadata": {
        "id": "TUnVIOWrQxvM",
        "colab": {
          "base_uri": "https://localhost:8080/"
        },
        "outputId": "ecd37abd-edc7-4cd5-d6d4-e811394d347f"
      },
      "execution_count": 6,
      "outputs": [
        {
          "output_type": "stream",
          "name": "stdout",
          "text": [
            "[5, 3, 2, 4]\n"
          ]
        }
      ]
    },
    {
      "cell_type": "markdown",
      "source": [
        "#### Tugas 5.b"
      ],
      "metadata": {
        "id": "Vi9tAPQ6RGVh"
      }
    },
    {
      "cell_type": "markdown",
      "source": [
        "Lakukan hal yang sama untuk `batch_2`: saring rating valid dan tambahkan ke `all_valid_ratings` menggunakan `extend()`.  \n",
        "Cetak isi `all_valid_ratings` setelah extend dari `batch_2`.\n",
        "\n",
        "---\n",
        "\n",
        "💬 Expected Output Tugas 5.b:\n",
        "\n",
        "```python\n",
        "[5, 3, 2, 4, 4, 2, 5, 3]\n",
        "```"
      ],
      "metadata": {
        "id": "RElLLqSORKdD"
      }
    },
    {
      "cell_type": "code",
      "source": [
        "# Write your code here\n",
        "batch_1 = [5, 3, 6, 2, -1, 4]\n",
        "batch_2 = [4, 0, 2, 5, 3]\n",
        "\n",
        "all_valid_rating = []\n",
        "all_valid_rating.extend(filter(lambda x: 1<=x<=5, batch_1))\n",
        "all_valid_rating.extend(filter(lambda x: 1<=x<=5, batch_2))\n",
        "\n",
        "print(all_valid_rating)"
      ],
      "metadata": {
        "id": "Oz0QqbtERIiN",
        "colab": {
          "base_uri": "https://localhost:8080/"
        },
        "outputId": "c2feca1c-fb32-44a5-f874-f4cc4b726f17"
      },
      "execution_count": 7,
      "outputs": [
        {
          "output_type": "stream",
          "name": "stdout",
          "text": [
            "[5, 3, 2, 4, 4, 2, 5, 3]\n"
          ]
        }
      ]
    },
    {
      "cell_type": "markdown",
      "source": [
        "## Tugas 6"
      ],
      "metadata": {
        "id": "2KsvbGm9Rbqs"
      }
    },
    {
      "cell_type": "markdown",
      "source": [
        "Kamu diberikan list transaksi berikut. Setiap elemen adalah tuple berisi `(kategori, jumlah)`.\n",
        "\n",
        "```python\n",
        "transactions = [\n",
        "    (\"food\", 120000),\n",
        "    (\"transport\", 30000),\n",
        "    (\"food\", 50000),\n",
        "    (\"entertainment\", 75000),\n",
        "    (\"food\", 40000),\n",
        "    (\"transport\", 45000)\n",
        "]\n",
        "```"
      ],
      "metadata": {
        "id": "yAUDc4NlR0ZB"
      }
    },
    {
      "cell_type": "markdown",
      "source": [
        "#### Tugas 6.a"
      ],
      "metadata": {
        "id": "k9Kq1-WIR2At"
      }
    },
    {
      "cell_type": "markdown",
      "source": [
        "Gunakan loop dan `setdefault()` untuk mengelompokkan transaksi berdasarkan kategori.  \n",
        "Buat dictionary `grouped_data` di mana setiap key adalah kategori dan setiap value adalah list dari jumlah transaksi di kategori tersebut.\n",
        "\n",
        "Cetak isi `grouped_data`.\n",
        "\n",
        "---\n",
        "\n",
        "💬 Expected Output Tugas 6.a:\n",
        "\n",
        "```python\n",
        "{\n",
        "  'food': [120000, 50000, 40000],\n",
        "  'transport': [30000, 45000],\n",
        "  'entertainment': [75000]\n",
        "}\n",
        "```"
      ],
      "metadata": {
        "id": "Yf3IEnZ5R7xX"
      }
    },
    {
      "cell_type": "code",
      "source": [
        "# Write your code here\n",
        "transactions = [\n",
        "    (\"food\", 120000),\n",
        "    (\"transport\", 30000),\n",
        "    (\"food\", 50000),\n",
        "    (\"entertainment\", 75000),\n",
        "    (\"food\", 40000),\n",
        "    (\"transport\", 45000)\n",
        "]\n",
        "\n",
        "x, y = zip(*transactions)\n",
        "grouped_data = {}\n",
        "\n",
        "for key, value in zip(x, y):\n",
        "    grouped_data.setdefault(key, []).append(value)\n",
        "\n",
        "print(grouped_data)"
      ],
      "metadata": {
        "id": "K0NjWGdYRTX8",
        "colab": {
          "base_uri": "https://localhost:8080/"
        },
        "outputId": "ed5452a9-1456-46b9-a3d4-ede5f63239eb"
      },
      "execution_count": 28,
      "outputs": [
        {
          "output_type": "stream",
          "name": "stdout",
          "text": [
            "{'food': [120000, 50000, 40000], 'transport': [30000, 45000], 'entertainment': [75000]}\n"
          ]
        }
      ]
    },
    {
      "cell_type": "markdown",
      "source": [
        "#### Tugas 6.b"
      ],
      "metadata": {
        "id": "QjGb14SgSAvt"
      }
    },
    {
      "cell_type": "markdown",
      "source": [
        "Kamu diberikan list transaksi berikut. Setiap elemen adalah tuple berisi `(kategori, jumlah)`.\n",
        "\n",
        "```python\n",
        "transactions = [\n",
        "    (\"food\", 120000),\n",
        "    (\"transport\", 30000),\n",
        "    (\"food\", 50000),\n",
        "    (\"entertainment\", 75000),\n",
        "    (\"food\", 40000),\n",
        "    (\"transport\", 45000)\n",
        "]\n",
        "```"
      ],
      "metadata": {
        "id": "bP6z9TsAljRa"
      }
    },
    {
      "cell_type": "markdown",
      "source": [
        "Gunakan method `get()` untuk mengambil dan menjumlahkan total pengeluaran kategori `\"food\"` dan `\"misc\"`.\n",
        "\n",
        "- Ambil total dari `grouped_data[\"food\"]` dengan `.get()`, lalu jumlahkan\n",
        "- Ambil total dari `grouped_data[\"misc\"]` (yang tidak ada), gunakan default empty list (`[]`) agar tidak error\n",
        "\n",
        "Cetak keduanya: total pengeluaran `\"food\"` dan `\"misc\"`.\n",
        "\n",
        "---\n",
        "\n",
        "💬 Expected Output Tugas 6.b:\n",
        "\n",
        "```python\n",
        "Total food: 210000  \n",
        "Total misc: 0\n",
        "```"
      ],
      "metadata": {
        "id": "ddxHX4qhSGQr"
      }
    },
    {
      "cell_type": "code",
      "source": [
        "# Write your code here\n",
        "total_food = sum(grouped_data.get(\"food\"))\n",
        "total_misc = sum(grouped_data.get(\"misc\", []))\n",
        "print(f\"Total food: {total_food}\")\n",
        "print(f\"Total misc: {total_misc}\")"
      ],
      "metadata": {
        "id": "UYeibNz3R6_x",
        "colab": {
          "base_uri": "https://localhost:8080/"
        },
        "outputId": "514740d5-08d4-416d-c3f6-e9c7352a7452"
      },
      "execution_count": 26,
      "outputs": [
        {
          "output_type": "stream",
          "name": "stdout",
          "text": [
            "Total food: 210000\n",
            "Total misc: 0\n"
          ]
        }
      ]
    },
    {
      "cell_type": "markdown",
      "source": [
        "## Tugas 7"
      ],
      "metadata": {
        "id": "dWs3LKrVTLqy"
      }
    },
    {
      "cell_type": "markdown",
      "source": [
        "Kamu memiliki daftar user ID yang sedang diperiksa karena aktivitas mencurigakan:\n",
        "\n",
        "```python\n",
        "flagged_ids = [\"u102\", \"u143\", \"u187\", \"u199\"]\n",
        "```"
      ],
      "metadata": {
        "id": "ysCMFrIoUIuw"
      }
    },
    {
      "cell_type": "markdown",
      "source": [
        "#### Tugas 7.a"
      ],
      "metadata": {
        "id": "8m5Q64zhUKe9"
      }
    },
    {
      "cell_type": "markdown",
      "source": [
        "Gunakan `dict.fromkeys()` untuk membuat dictionary `status_map` di mana setiap `user_id` diawali dengan status `\"pending\"`.  \n",
        "Cetak `status_map`.\n",
        "\n",
        "---\n",
        "\n",
        "💬 Expected Output Tugas 7.a:\n",
        "\n",
        "```python\n",
        "{'u102': 'pending', 'u143': 'pending', 'u187': 'pending', 'u199': 'pending'}\n",
        "```"
      ],
      "metadata": {
        "id": "R_Znr989UMJu"
      }
    },
    {
      "cell_type": "code",
      "source": [
        "# Write your code here\n",
        "flagged_ids = [\"u102\", \"u143\", \"u187\", \"u199\"]\n",
        "status_map = dict.fromkeys(flagged_ids, \"pending\")\n",
        "print(status_map)"
      ],
      "metadata": {
        "id": "GDcFZPE7Ujx7",
        "colab": {
          "base_uri": "https://localhost:8080/"
        },
        "outputId": "e34f44c4-5750-4010-87a6-064562995347"
      },
      "execution_count": 29,
      "outputs": [
        {
          "output_type": "stream",
          "name": "stdout",
          "text": [
            "{'u102': 'pending', 'u143': 'pending', 'u187': 'pending', 'u199': 'pending'}\n"
          ]
        }
      ]
    },
    {
      "cell_type": "markdown",
      "source": [
        "#### Tugas 7.b"
      ],
      "metadata": {
        "id": "gW4rTB_fURt-"
      }
    },
    {
      "cell_type": "markdown",
      "source": [
        "Sekarang, anggap `\"u143\"` dan `\"u187\"` telah diverifikasi.  \n",
        "Ubah status mereka menjadi `\"cleared\"` dalam dictionary `status_map`.  \n",
        "Cetak kembali `status_map`.\n",
        "\n",
        "---\n",
        "\n",
        "💬 Expected Output Tugas 7.b:\n",
        "\n",
        "```python\n",
        "{'u102': 'pending', 'u143': 'cleared', 'u187': 'cleared', 'u199': 'pending'}\n",
        "```"
      ],
      "metadata": {
        "id": "wrtFwMvZUpyJ"
      }
    },
    {
      "cell_type": "code",
      "source": [
        "# Write your code here\n",
        "flagged_ids = [\"u102\", \"u143\", \"u187\", \"u199\"]\n",
        "status_map = dict.fromkeys(flagged_ids, \"pending\")\n",
        "status_map[flagged_ids[1]] = \"cleared\"\n",
        "status_map[flagged_ids[2]] = \"cleared\"\n",
        "print(status_map)"
      ],
      "metadata": {
        "id": "jtW-zIPaSSvj",
        "colab": {
          "base_uri": "https://localhost:8080/"
        },
        "outputId": "5b874e92-4610-4d41-ccbb-42a0276e054b"
      },
      "execution_count": 33,
      "outputs": [
        {
          "output_type": "stream",
          "name": "stdout",
          "text": [
            "{'u102': 'pending', 'u143': 'cleared', 'u187': 'cleared', 'u199': 'pending'}\n"
          ]
        }
      ]
    },
    {
      "cell_type": "markdown",
      "source": [
        "## Tugas 8"
      ],
      "metadata": {
        "id": "K77oo6igVoOe"
      }
    },
    {
      "cell_type": "markdown",
      "source": [
        "#### Tugas 8.a"
      ],
      "metadata": {
        "id": "HZH-fw9sVs-1"
      }
    },
    {
      "cell_type": "markdown",
      "source": [
        "Kamu diberikan total durasi dalam menit:\n",
        "\n",
        "```python\n",
        "total_minutes = 245\n",
        "```\n",
        "\n",
        "Gunakan fungsi `divmod()` untuk mengonversi `total_minutes` menjadi `(jam, menit)`.  \n",
        "Cetak hasilnya dalam format seperti:\n",
        "```\n",
        "245 menit = 4 jam 5 menit\n",
        "```\n",
        "\n",
        "---\n",
        "\n",
        "💬 Expected Output Tugas 8.a:\n",
        "\n",
        "```\n",
        "245 menit = 4 jam 5 menit\n",
        "```"
      ],
      "metadata": {
        "id": "S1_0gpN0Vzka"
      }
    },
    {
      "cell_type": "code",
      "source": [
        "# Write your code here\n",
        "total_minutes = 245\n",
        "jam, menit = divmod(total_minutes, 60)\n",
        "print(f\"{total_minutes} menit = {jam} jam {menit} menit\")"
      ],
      "metadata": {
        "id": "kV8RXI_fU0cL",
        "colab": {
          "base_uri": "https://localhost:8080/"
        },
        "outputId": "d58c5a45-792d-4d85-b8d8-501908c3fdea"
      },
      "execution_count": 34,
      "outputs": [
        {
          "output_type": "stream",
          "name": "stdout",
          "text": [
            "245 menit = 4 jam 5 menit\n"
          ]
        }
      ]
    },
    {
      "cell_type": "markdown",
      "source": [
        "#### Tugas 8.b"
      ],
      "metadata": {
        "id": "LNGwQdkBV6Wu"
      }
    },
    {
      "cell_type": "markdown",
      "source": [
        "Sebuah gudang ingin mengemas 1280 barang ke dalam kotak, masing-masing dapat menampung **300** barang.  \n",
        "Gunakan `divmod()` untuk menghitung:\n",
        "- Berapa kotak penuh yang dapat digunakan\n",
        "- Berapa sisa barang yang belum terkemas\n",
        "\n",
        "Cetak hasilnya seperti:\n",
        "```\n",
        "1280 barang → 4 kotak penuh, 80 barang tersisa\n",
        "```\n",
        "\n",
        "---\n",
        "\n",
        "💬 Expected Output Tugas 8.b:\n",
        "\n",
        "```\n",
        "1280 barang → 4 kotak penuh, 80 barang tersisa\n",
        "```"
      ],
      "metadata": {
        "id": "lFBgFDBkV-mf"
      }
    },
    {
      "cell_type": "code",
      "source": [
        "# Write your code here\n",
        "total_barang = 1280\n",
        "kapasitas_per_kotak = 300\n",
        "kotak_penuh, sisa_barang = divmod(total_barang, kapasitas_per_kotak)\n",
        "print(f\"{total_barang} barang -> {kotak_penuh} kotak penuh, {sisa_barang} barang tersisa\")"
      ],
      "metadata": {
        "id": "Bjr5Dg0oV7tv",
        "colab": {
          "base_uri": "https://localhost:8080/"
        },
        "outputId": "03934fe2-a4ba-40e8-9fda-7e17a5acf51d"
      },
      "execution_count": 36,
      "outputs": [
        {
          "output_type": "stream",
          "name": "stdout",
          "text": [
            "1280 barang -> 4 kotak penuh, 80 barang tersisa\n"
          ]
        }
      ]
    },
    {
      "cell_type": "markdown",
      "source": [
        "## Tugas 9"
      ],
      "metadata": {
        "id": "nW4NKsfOWp-R"
      }
    },
    {
      "cell_type": "markdown",
      "source": [
        "#### Tugas 9.a"
      ],
      "metadata": {
        "id": "t2tPA-BDWwou"
      }
    },
    {
      "cell_type": "markdown",
      "source": [
        "Kamu memiliki input string `password_input` yang diisi pengguna:\n",
        "\n",
        "```python\n",
        "password_input = \"s4fep@ss\"\n",
        "```\n",
        "\n",
        "Gunakan `len()` untuk memeriksa berapa panjang karakter dari password tersebut.  \n",
        "Cetak kalimat:  \n",
        "```\n",
        "Password memiliki X karakter.\n",
        "```\n",
        "\n",
        "---\n",
        "\n",
        "💬 Expected Output Tugas 9.a:\n",
        "\n",
        "```\n",
        "Password memiliki 8 karakter.\n",
        "```"
      ],
      "metadata": {
        "id": "l4_zSNmoW0Wz"
      }
    },
    {
      "cell_type": "code",
      "source": [
        "# Write your code here\n",
        "password_input = \"s4fep@ss\"\n",
        "print(f\"Password memiliki {len(password_input)} karakter.\")"
      ],
      "metadata": {
        "id": "CVW5iaLnWAKd",
        "colab": {
          "base_uri": "https://localhost:8080/"
        },
        "outputId": "6ec531a0-7e7e-4444-9042-cddc24acea35"
      },
      "execution_count": 38,
      "outputs": [
        {
          "output_type": "stream",
          "name": "stdout",
          "text": [
            "Password memiliki 8 karakter.\n"
          ]
        }
      ]
    },
    {
      "cell_type": "markdown",
      "source": [
        "#### Tugas 9.b"
      ],
      "metadata": {
        "id": "A6-AzaaHXA0S"
      }
    },
    {
      "cell_type": "markdown",
      "source": [
        "Minimum panjang password yang diizinkan adalah 12 karakter.  \n",
        "Gunakan `len()` dan `range()` untuk mencetak placeholder `*` sebanyak selisih kekurangan karakter jika password terlalu pendek.\n",
        "\n",
        "Contoh format:\n",
        "```\n",
        "Password kurang 4 karakter.\n",
        "Saran: Tambahkan ****\n",
        "```\n",
        "\n",
        "Jika password sudah cukup panjang, cetak:\n",
        "```\n",
        "Password sudah memenuhi panjang minimum.\n",
        "```\n",
        "\n",
        "---\n",
        "\n",
        "💬 Expected Output Tugas 9.b:\n",
        "\n",
        "```\n",
        "Password kurang 4 karakter.  \n",
        "Saran: Tambahkan ****\n",
        "```"
      ],
      "metadata": {
        "id": "Hhl6o3D6XAsj"
      }
    },
    {
      "cell_type": "code",
      "source": [
        "# Write your code here\n",
        "password_input = \"s4fep@ss\"\n",
        "a = list(range(len(password_input), 12))\n",
        "\n",
        "if len(password_input) < 12:\n",
        "    print(f\"Password kurang {12-len(password_input)} karakter.\")\n",
        "    print(\"Saran: Tambahkan\", end = \" \")\n",
        "    for i in a:\n",
        "        print(\"*\", end = \"\")\n",
        "else:\n",
        "  print(\"Password sudah memenuhi panjang minimum.\")"
      ],
      "metadata": {
        "id": "AFN1zaXqXGx2",
        "colab": {
          "base_uri": "https://localhost:8080/"
        },
        "outputId": "57ba7921-921a-4b1d-b9a4-3e08009be263"
      },
      "execution_count": 68,
      "outputs": [
        {
          "output_type": "stream",
          "name": "stdout",
          "text": [
            "Password kurang 4 karakter.\n",
            "Saran: Tambahkan ****"
          ]
        }
      ]
    },
    {
      "cell_type": "code",
      "source": [
        "a = list(range(len(password_input), 12))\n",
        "for i in a:\n",
        "  print(\"*\", end = \"\")\n"
      ],
      "metadata": {
        "colab": {
          "base_uri": "https://localhost:8080/"
        },
        "id": "GhVdHuIgyDci",
        "outputId": "235d96cb-535e-438f-af98-2cc94001881f"
      },
      "execution_count": 62,
      "outputs": [
        {
          "output_type": "stream",
          "name": "stdout",
          "text": [
            "****"
          ]
        }
      ]
    },
    {
      "cell_type": "markdown",
      "source": [
        "## Tugas 10"
      ],
      "metadata": {
        "id": "ZEXxthvMYo7U"
      }
    },
    {
      "cell_type": "markdown",
      "source": [
        "Diberikan list nilai siswa:\n",
        "\n",
        "```python\n",
        "grades = [78, 85, 92, 67, 88, 90, 74]\n",
        "```"
      ],
      "metadata": {
        "id": "HEzSc4o_Y4vg"
      }
    },
    {
      "cell_type": "markdown",
      "source": [
        "#### Tugas 10.a"
      ],
      "metadata": {
        "id": "DK6lXUbyY7OB"
      }
    },
    {
      "cell_type": "markdown",
      "source": [
        "Gunakan fungsi `min()` dan `max()` untuk mencari:\n",
        "- Nilai tertinggi\n",
        "- Nilai terendah\n",
        "\n",
        "Cetak hasilnya.\n",
        "\n",
        "---\n",
        "\n",
        "💬 Expected Output Tugas 11.a:\n",
        "\n",
        "```\n",
        "Nilai tertinggi: 92  \n",
        "Nilai terendah: 67\n",
        "```"
      ],
      "metadata": {
        "id": "Lcrsj6agY9aU"
      }
    },
    {
      "cell_type": "code",
      "source": [
        "# Write your code here\n",
        "grades = [78, 85, 92, 67, 88, 90, 74]\n",
        "grades_min= min(grades)\n",
        "grades_max = max(grades)\n",
        "print(f\"Nilai tertinggi: {grades_max}\")\n",
        "print(f\"Nilai terendah: {grades_min}\")"
      ],
      "metadata": {
        "id": "UW8_l_FbZDoA",
        "colab": {
          "base_uri": "https://localhost:8080/"
        },
        "outputId": "9084d051-1694-414b-d608-059131473875"
      },
      "execution_count": 2,
      "outputs": [
        {
          "output_type": "stream",
          "name": "stdout",
          "text": [
            "Nilai tertinggi: 92\n",
            "Nilai terendah: 67\n"
          ]
        }
      ]
    },
    {
      "cell_type": "markdown",
      "source": [
        "#### Tugas 10.b"
      ],
      "metadata": {
        "id": "1EtIsvW7ZFTV"
      }
    },
    {
      "cell_type": "markdown",
      "source": [
        "Gunakan `sum()` dan `len()` untuk menghitung rata-rata nilai. Cetak hasilnya dalam format:\n",
        "```\n",
        "Rata-rata nilai: XX.XX\n",
        "```\n",
        "---\n",
        "\n",
        "💬 Expected Output Tugas 10.b:\n",
        "\n",
        "```\n",
        "Rata-rata nilai: 82.00\n",
        "```"
      ],
      "metadata": {
        "id": "zwhwGGdpZJN2"
      }
    },
    {
      "cell_type": "code",
      "source": [
        "# Write your code here\n",
        "grades = [78, 85, 92, 67, 88, 90, 74]\n",
        "grades_mean = sum(grades)/len(grades)\n",
        "print(f\"Rata-rata nilai: {grades_mean}\")"
      ],
      "metadata": {
        "id": "KRbEWH6-ZLu2",
        "colab": {
          "base_uri": "https://localhost:8080/"
        },
        "outputId": "94337bd9-0c90-43d0-8696-8d8b6f6e1965"
      },
      "execution_count": 40,
      "outputs": [
        {
          "output_type": "stream",
          "name": "stdout",
          "text": [
            "Rata-rata nilai: 82.0\n"
          ]
        }
      ]
    },
    {
      "cell_type": "markdown",
      "source": [
        "## Tugas 11 (gw gk tahu yg ini sebaiknya dimasukkin atau nggak, soalnya keknya gk kepake(?))"
      ],
      "metadata": {
        "id": "2FCpFa96XZ5P"
      }
    },
    {
      "cell_type": "markdown",
      "source": [
        "Kamu memiliki list `error_logs` yang berisi pesan-pesan error dari sistem:\n",
        "\n",
        "```python\n",
        "error_logs = [\n",
        "    \"Disk warning: C almost full\",\n",
        "    \"Auth failure on SSH port\",\n",
        "    \"Database connection lost\",\n",
        "    \"Low memory warning\",\n",
        "    \"Power supply unstable\"\n",
        "]\n",
        "```"
      ],
      "metadata": {
        "id": "gFa1i27kYM6_"
      }
    },
    {
      "cell_type": "markdown",
      "source": [
        "#### Tugas 11.a"
      ],
      "metadata": {
        "id": "JBrkCna3X6R2"
      }
    },
    {
      "cell_type": "markdown",
      "source": [
        "Gunakan fungsi `iter()` untuk membuat iterator dari list tersebut. Simpan dalam variabel `log_iterator`.  \n",
        "Cetak objek iterator tersebut.\n",
        "\n",
        "---\n",
        "\n",
        "💬 Expected Output Tugas 10.a:\n",
        "\n",
        "```\n",
        "<list_iterator object at ...>  ← bentuk output bisa berbeda tergantung interpreter\n",
        "```"
      ],
      "metadata": {
        "id": "sRAvxyVkYCu9"
      }
    },
    {
      "cell_type": "code",
      "source": [
        "# Write your code here\n",
        "error_logs = [\n",
        "    \"Disk warning: C almost full\",\n",
        "    \"Auth failure on SSH port\",\n",
        "    \"Database connection lost\",\n",
        "    \"Low memory warning\",\n",
        "    \"Power supply unstable\"\n",
        "]\n",
        "log_iterator = iter(error_logs)\n",
        "print(log_iterator)"
      ],
      "metadata": {
        "id": "TCYfq_ukXUIv",
        "colab": {
          "base_uri": "https://localhost:8080/"
        },
        "outputId": "cb80707a-635d-4d7e-e45e-314408d11959"
      },
      "execution_count": 15,
      "outputs": [
        {
          "output_type": "stream",
          "name": "stdout",
          "text": [
            "Disk warning: C almost full\n"
          ]
        }
      ]
    },
    {
      "cell_type": "markdown",
      "source": [
        "#### Tugas 11.b"
      ],
      "metadata": {
        "id": "RgUcYwSIYQaQ"
      }
    },
    {
      "cell_type": "markdown",
      "source": [
        "Gunakan `next()` sebanyak 3 kali berturut-turut pada `log_iterator`, dan cetak hasilnya satu per satu.\n",
        "\n",
        "---\n",
        "\n",
        "💬 Expected Output Tugas 10.b:\n",
        "\n",
        "```\n",
        "Disk warning: C almost full  \n",
        "Auth failure on SSH port  \n",
        "Database connection lost\n",
        "```"
      ],
      "metadata": {
        "id": "XZW8RTizYX1U"
      }
    },
    {
      "cell_type": "code",
      "source": [
        "# Write your code here\n",
        "error_logs = [\n",
        "    \"Disk warning: C almost full\",\n",
        "    \"Auth failure on SSH port\",\n",
        "    \"Database connection lost\",\n",
        "    \"Low memory warning\",\n",
        "    \"Power supply unstable\"\n",
        "]\n",
        "log_iterator = iter(error_logs)\n",
        "print(next(log_iterator))\n",
        "print(next(log_iterator))\n",
        "print(next(log_iterator))"
      ],
      "metadata": {
        "id": "yTdDIW40YRlf",
        "colab": {
          "base_uri": "https://localhost:8080/"
        },
        "outputId": "a10e123c-e886-4f16-9da5-d0b97c62bf7f"
      },
      "execution_count": 13,
      "outputs": [
        {
          "output_type": "stream",
          "name": "stdout",
          "text": [
            "Disk warning: C almost full\n",
            "Auth failure on SSH port\n",
            "Database connection lost\n"
          ]
        }
      ]
    },
    {
      "cell_type": "code",
      "source": [],
      "metadata": {
        "id": "V7R_DukwYebv"
      },
      "execution_count": null,
      "outputs": []
    }
  ]
}